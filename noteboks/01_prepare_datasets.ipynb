{
 "cells": [
  {
   "cell_type": "code",
   "execution_count": null,
   "metadata": {},
   "outputs": [],
   "source": [
    "try:\n",
    "    import google.colab\n",
    "\n",
    "    IN_COLAB = True\n",
    "except:\n",
    "    IN_COLAB = False"
   ]
  },
  {
   "cell_type": "code",
   "execution_count": null,
   "metadata": {},
   "outputs": [],
   "source": [
    "if IN_COLAB:\n",
    "    from google.colab import drive\n",
    "\n",
    "    drive.mount(\"/content/drive/\")"
   ]
  },
  {
   "cell_type": "code",
   "execution_count": null,
   "metadata": {},
   "outputs": [],
   "source": [
    "cd drive/MyDrive/document_extractor"
   ]
  },
  {
   "cell_type": "code",
   "execution_count": null,
   "metadata": {},
   "outputs": [],
   "source": [
    "!ls"
   ]
  },
  {
   "cell_type": "code",
   "execution_count": null,
   "metadata": {},
   "outputs": [],
   "source": [
    "!pip install poetry"
   ]
  },
  {
   "cell_type": "code",
   "execution_count": null,
   "metadata": {},
   "outputs": [],
   "source": [
    "!poetry install --extras \"cuda\""
   ]
  },
  {
   "cell_type": "code",
   "execution_count": 1,
   "metadata": {},
   "outputs": [],
   "source": [
    "import os\n",
    "import json\n",
    "from document_extractor.dataset import (\n",
    "    DatasetConfig,\n",
    "    generate_all_samples,\n",
    "    check_leakage,\n",
    ")\n",
    "from pathlib import Path"
   ]
  },
  {
   "cell_type": "code",
   "execution_count": 2,
   "metadata": {},
   "outputs": [
    {
     "data": {
      "text/plain": [
       "{'base_query': 'Extract the',\n",
       " 'list_query': 'Extract the list of',\n",
       " 'json_query': 'Extract (in json) the',\n",
       " 'extract_sub_dict_as_dict': True,\n",
       " 'extract_sub_dict_as_single_values': True}"
      ]
     },
     "execution_count": 2,
     "metadata": {},
     "output_type": "execute_result"
    }
   ],
   "source": [
    "config = DatasetConfig()\n",
    "config.model_dump()"
   ]
  },
  {
   "cell_type": "code",
   "execution_count": 3,
   "metadata": {},
   "outputs": [],
   "source": [
    "root_folder = Path(os.path.abspath(\"\")).parent\n",
    "\n",
    "raw_train_folder = root_folder / \"datasets/raw/train\"\n",
    "raw_val_folder = root_folder / \"datasets/raw/val\"\n",
    "raw_test_folder = root_folder / \"datasets/raw/test\"\n",
    "\n",
    "output_folder = root_folder / \"datasets/preprocessed\"\n",
    "\n",
    "output_train = output_folder / \"train.json\"\n",
    "output_val = output_folder / \"val.json\"\n",
    "output_test = output_folder / \"test.json\""
   ]
  },
  {
   "cell_type": "code",
   "execution_count": 4,
   "metadata": {},
   "outputs": [],
   "source": [
    "check_leakage(folder1=raw_train_folder, folder2=raw_val_folder)\n",
    "check_leakage(folder1=raw_train_folder, folder2=raw_test_folder)\n",
    "check_leakage(folder1=raw_val_folder, folder2=raw_test_folder)"
   ]
  },
  {
   "cell_type": "code",
   "execution_count": 5,
   "metadata": {},
   "outputs": [],
   "source": [
    "train_samples = generate_all_samples(folder=raw_train_folder, config=config)\n",
    "val_samples = generate_all_samples(folder=raw_val_folder, config=config)\n",
    "test_samples = generate_all_samples(folder=raw_test_folder, config=config)"
   ]
  },
  {
   "cell_type": "code",
   "execution_count": 6,
   "metadata": {},
   "outputs": [],
   "source": [
    "# Save output in json files\n",
    "with open(output_train, \"w\") as json_file:\n",
    "    json.dump(train_samples, fp=json_file, indent=2)\n",
    "with open(output_val, \"w\") as json_file:\n",
    "    json.dump(val_samples, fp=json_file, indent=2)\n",
    "with open(output_test, \"w\") as json_file:\n",
    "    json.dump(test_samples, fp=json_file, indent=2)"
   ]
  },
  {
   "cell_type": "code",
   "execution_count": null,
   "metadata": {},
   "outputs": [],
   "source": []
  }
 ],
 "metadata": {
  "kernelspec": {
   "display_name": ".venv",
   "language": "python",
   "name": "python3"
  },
  "language_info": {
   "codemirror_mode": {
    "name": "ipython",
    "version": 3
   },
   "file_extension": ".py",
   "mimetype": "text/x-python",
   "name": "python",
   "nbconvert_exporter": "python",
   "pygments_lexer": "ipython3",
   "version": "3.12.3"
  }
 },
 "nbformat": 4,
 "nbformat_minor": 2
}
